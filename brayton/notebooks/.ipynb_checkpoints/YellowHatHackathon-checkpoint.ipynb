{
 "cells": [
  {
   "cell_type": "markdown",
   "id": "59c59499-a9ac-4452-bf91-d5469635de6f",
   "metadata": {},
   "source": [
    "# YellowHat Hackathon"
   ]
  },
  {
   "cell_type": "markdown",
   "id": "9562ddaa-4c11-4268-a432-da194e6e7088",
   "metadata": {},
   "source": [
    "<strong>Brayton Sanders</strong><p>11/29 to 11/30/22</p>"
   ]
  },
  {
   "cell_type": "markdown",
   "id": "f875d316-d289-42f3-82eb-a425db22ef94",
   "metadata": {},
   "source": [
    "<strong>Teammates:</strong><p>Chris<br>Josh</p>"
   ]
  },
  {
   "cell_type": "markdown",
   "id": "35c7c51f-4e9f-48ab-897f-55feff3ac167",
   "metadata": {},
   "source": [
    "_______"
   ]
  },
  {
   "cell_type": "markdown",
   "id": "e7480875-8741-400c-afaf-07c92941068d",
   "metadata": {},
   "source": [
    "## Usefull Links"
   ]
  },
  {
   "cell_type": "markdown",
   "id": "31aaa5a6-f6ee-48a7-bbc9-d2748ac8c388",
   "metadata": {},
   "source": [
    "<a href=\"https://developer.apple.com/documentation/vision/vnrecognizetextrequest\">Apple 'Vision' Developer Docs</a>"
   ]
  },
  {
   "cell_type": "markdown",
   "id": "ce0564d3-d9fa-4bdb-99d4-035818369cc5",
   "metadata": {},
   "source": [
    "<a href=\"https://gist.github.com/RhetTbull/1c34fc07c95733642cffcd1ac587fc4c\">Github for simple example of Python implementation</a>"
   ]
  },
  {
   "cell_type": "markdown",
   "id": "ed6e2e05-b57e-4d36-8733-2148ec8d87b8",
   "metadata": {},
   "source": [
    "__________"
   ]
  },
  {
   "cell_type": "markdown",
   "id": "bdf7dc88-620a-484f-a3be-f39eb849a02d",
   "metadata": {},
   "source": [
    "## Imports n Stuff"
   ]
  },
  {
   "cell_type": "code",
   "execution_count": 17,
   "id": "02612515-3851-4aa7-be62-f052dd6da218",
   "metadata": {},
   "outputs": [],
   "source": [
    "import os\n",
    "import pathlib\n",
    "import numpy as np\n",
    "import Quartz # pip install pyobjc-framework-Quartz\n",
    "import Vision # pip install pyobjc-framework-Vision\n",
    "from Cocoa import NSURL\n",
    "from Foundation import NSDictionary\n",
    "# needed to capture system-level stderr\n",
    "from wurlitzer import pipes # pip install wurlitzer"
   ]
  },
  {
   "cell_type": "markdown",
   "id": "ad0d6c77-2496-4a0d-8fc3-6ce6a843e3f7",
   "metadata": {},
   "source": [
    "______"
   ]
  },
  {
   "cell_type": "markdown",
   "id": "cbecfce6-6348-48a7-9f1f-181799293a5f",
   "metadata": {},
   "source": [
    "## Exploring Github Example Above"
   ]
  },
  {
   "cell_type": "code",
   "execution_count": 358,
   "id": "8568fd57-8530-451d-bad9-69fa9ffac88e",
   "metadata": {},
   "outputs": [],
   "source": [
    "def image_to_text(img_path, lang=\"eng\"):\n",
    "    input_url = NSURL.fileURLWithPath_(img_path)\n",
    "\n",
    "    with pipes() as (out, err):\n",
    "    # capture stdout and stderr from system calls\n",
    "    # otherwise, Quartz.CIImage.imageWithContentsOfURL_\n",
    "    # prints to stderr something like:\n",
    "    # 2020-09-20 20:55:25.538 python[73042:5650492] Creating client/daemon connection: B8FE995E-3F27-47F4-9FA8-559C615FD774\n",
    "    # 2020-09-20 20:55:25.652 python[73042:5650492] Got the query meta data reply for: com.apple.MobileAsset.RawCamera.Camera, response: 0\n",
    "        input_image = Quartz.CIImage.imageWithContentsOfURL_(input_url)\n",
    "\n",
    "    vision_options = NSDictionary.dictionaryWithDictionary_({})\n",
    "    vision_handler = Vision.VNImageRequestHandler.alloc().initWithCIImage_options_(\n",
    "        input_image, vision_options\n",
    "    )\n",
    "    results = []\n",
    "    handler = make_request_handler(results)\n",
    "    vision_request = Vision.VNRecognizeTextRequest.alloc().initWithCompletionHandler_(handler)\n",
    "    error = vision_handler.performRequests_error_([vision_request], None)\n",
    "\n",
    "    return results\n",
    "\n",
    "def make_request_handler(results):\n",
    "    \"\"\" results: list to store results \"\"\"\n",
    "    if not isinstance(results, list):\n",
    "        raise ValueError(\"results must be a list\")\n",
    "\n",
    "    def handler(request, error):\n",
    "        if error:\n",
    "            print(f\"Error! {error}\")\n",
    "        else:\n",
    "            # request.setMinimumTextHeight_(1/1000)\n",
    "            # request.setRecognitionLevel_(1)\n",
    "            \n",
    "            observations = request.results()\n",
    "            for text_observation in observations:\n",
    "                recognized_text = text_observation.topCandidates_(1)[0]\n",
    "                results.append([recognized_text.string(), recognized_text.confidence(), text_observation])\n",
    "    return handler"
   ]
  },
  {
   "cell_type": "code",
   "execution_count": 359,
   "id": "93f358c2-df4f-46c9-8e7b-3bccd8af9bf5",
   "metadata": {},
   "outputs": [
    {
     "data": {
      "text/plain": [
       "True"
      ]
     },
     "execution_count": 359,
     "metadata": {},
     "output_type": "execute_result"
    }
   ],
   "source": [
    "# Get a png\n",
    "path = os.path.join('..', \"assets\", \"two-1.png\")\n",
    "\n",
    "os.path.exists(path)"
   ]
  },
  {
   "cell_type": "code",
   "execution_count": 361,
   "id": "3f12db3e-dcb4-4748-b581-4e3cc94ad845",
   "metadata": {},
   "outputs": [],
   "source": [
    "# Process Image!\n",
    "res = image_to_text(img_path = path)\n",
    "\n",
    "# [string, confidencem, VNRecognizedTextObservation object]\n",
    "# res"
   ]
  },
  {
   "cell_type": "markdown",
   "id": "d71512b8-30c4-4f36-bfdc-1a27d688fd73",
   "metadata": {},
   "source": [
    "### Exploring <strong>\"VNRecognizedTextObservation\"</strong> Object"
   ]
  },
  {
   "cell_type": "code",
   "execution_count": 85,
   "id": "01db6cbf-95a2-4098-b7f3-8fbbb04a7989",
   "metadata": {},
   "outputs": [],
   "source": [
    "ob = res[0][-1]"
   ]
  },
  {
   "cell_type": "code",
   "execution_count": 86,
   "id": "935ace5c-38c1-4062-80b0-366b24d5cbca",
   "metadata": {},
   "outputs": [
    {
     "data": {
      "text/plain": [
       "<CoreFoundation.CGRect origin=<CoreFoundation.CGPoint x=0.8953488365052238 y=0.8779956499735514> size=<CoreFoundation.CGSize width=0.010174433390299553 height=0.05228757858276367>>"
      ]
     },
     "execution_count": 86,
     "metadata": {},
     "output_type": "execute_result"
    }
   ],
   "source": [
    "# Found area where text exists\n",
    "ob.boundingBox()"
   ]
  },
  {
   "cell_type": "code",
   "execution_count": 89,
   "id": "c7d48a39-17b5-4d74-9c73-78b9b086c2e8",
   "metadata": {},
   "outputs": [
    {
     "data": {
      "text/plain": [
       "<CoreFoundation.CGPoint x=0.9055232698955233 y=0.8779956499735514>"
      ]
     },
     "execution_count": 89,
     "metadata": {},
     "output_type": "execute_result"
    }
   ],
   "source": [
    "# Corrdinates relative to bottom left of image\n",
    "## Should be ratio -> 0,0 == bottom left OR 1,1 == top right\n",
    "ob.bottomLeft()"
   ]
  },
  {
   "cell_type": "code",
   "execution_count": 431,
   "id": "cc37563b-5d08-4b05-ad4f-c9baaf647bea",
   "metadata": {},
   "outputs": [],
   "source": [
    "# All atributes (long list)\n",
    "# np.sort(dir(ob)).tolist()"
   ]
  },
  {
   "cell_type": "markdown",
   "id": "ba910582-2e1b-4b62-b893-84b4aca96649",
   "metadata": {},
   "source": [
    "## Pull Apart Function"
   ]
  },
  {
   "cell_type": "code",
   "execution_count": 501,
   "id": "592253bc-81c2-4933-bb5d-dad27c927104",
   "metadata": {},
   "outputs": [],
   "source": [
    "def make_request_handler(results):\n",
    "    \"\"\" results: list to store results \"\"\"\n",
    "    if not isinstance(results, list):\n",
    "        raise ValueError(\"results must be a list\")\n",
    "\n",
    "    def handler(request, error):\n",
    "        if error:\n",
    "            print(f\"Error! {error}\")\n",
    "        else:\n",
    "            request.setMinimumTextHeight_(1/2)\n",
    "            # request.setRegionOfInterest_([[0, 0], [0.5, 0.5]])\n",
    "            # request.setRecognitionLevel_(1)\n",
    "            \n",
    "            observations = request.results()\n",
    "            for text_observation in observations:\n",
    "                recognized_text = text_observation.topCandidates_(1)[0]\n",
    "                if len(results) == 0:\n",
    "                    results.append([recognized_text.string(), recognized_text.confidence(), request])\n",
    "                else:\n",
    "                    results.append([recognized_text.string(), recognized_text.confidence(), (text_observation.bottomLeft().x, text_observation.bottomLeft().y)])                    \n",
    "    return handler"
   ]
  },
  {
   "cell_type": "code",
   "execution_count": 518,
   "id": "020c742d-4ecf-480b-becc-c1ff4611ed0b",
   "metadata": {},
   "outputs": [
    {
     "data": {
      "text/plain": [
       "True"
      ]
     },
     "execution_count": 518,
     "metadata": {},
     "output_type": "execute_result"
    }
   ],
   "source": [
    "# Get a png\n",
    "image_num = 1\n",
    "path = os.path.join('..', '..', \"crime_lab_roof\", f\"crime_plans_page_{image_num}.jpeg\")\n",
    "\n",
    "\n",
    "## Here I tried to split an image into smaller images so the text on the image is relatively bigger and maybe will be picked up.. not much luck\n",
    "\n",
    "# path = os.path.join('..', '..', \"crime_lab_roof\", \"split_image\", f\"row-1-column-1.jpg\")\n",
    "\n",
    "os.path.exists(path)"
   ]
  },
  {
   "cell_type": "code",
   "execution_count": 507,
   "id": "7eb0ae43-e614-486e-a307-b352553c3827",
   "metadata": {},
   "outputs": [],
   "source": [
    "# VNRequestTextRecoghhhnitionLevel\n",
    "# minimumTextHeight"
   ]
  },
  {
   "cell_type": "code",
   "execution_count": 508,
   "id": "3de3c5a9-f900-4a0c-b499-91c66466e729",
   "metadata": {},
   "outputs": [],
   "source": [
    "try:\n",
    "    del(results)\n",
    "except NameError:\n",
    "    pass\n",
    "\n",
    "input_url = NSURL.fileURLWithPath_(path)\n",
    "\n",
    "with pipes() as (out, err):\n",
    "# capture stdout and stderr from system calls\n",
    "# otherwise, Quartz.CIImage.imageWithContentsOfURL_\n",
    "# prints to stderr something like:\n",
    "# 2020-09-20 20:55:25.538 python[73042:5650492] Creating client/daemon connection: B8FE995E-3F27-47F4-9FA8-559C615FD774\n",
    "# 2020-09-20 20:55:25.652 python[73042:5650492] Got the query meta data reply for: com.apple.MobileAsset.RawCamera.Camera, response: 0\n",
    "    input_image = Quartz.CIImage.imageWithContentsOfURL_(input_url)\n",
    "\n",
    "# \"recognitionLevel\": Vision.VNRequestTextRecognitionLevel({'fast': 0})\n",
    "    \n",
    "vision_options = NSDictionary.dictionaryWithDictionary_({})\n",
    "vision_handler = Vision.VNImageRequestHandler.alloc().initWithCIImage_options_(\n",
    "    input_image, vision_options\n",
    ")\n",
    "results = []\n",
    "handler = make_request_handler(results)\n",
    "vision_request = Vision.VNRecognizeTextRequest.alloc().initWithCompletionHandler_(handler)\n",
    "error = vision_handler.performRequests_error_([vision_request], None)"
   ]
  },
  {
   "cell_type": "code",
   "execution_count": null,
   "id": "0e5e8a7d-9012-4384-940f-c158a88e2094",
   "metadata": {},
   "outputs": [],
   "source": []
  },
  {
   "cell_type": "code",
   "execution_count": 512,
   "id": "0b6cdd04-37ae-4845-a89e-ceb2e534b382",
   "metadata": {},
   "outputs": [],
   "source": [
    "'''\n",
    "This request object *seems* to be where you set the \"minimumTextHeight\" arg\n",
    "\n",
    "But you can set it to 1/1000 or 1/2 and the results don't change...\n",
    "''';\n",
    "\n",
    "req = results[0][-1]\n",
    "# dir(results[0][-1])"
   ]
  },
  {
   "cell_type": "code",
   "execution_count": 514,
   "id": "bc6388b5-1100-4313-a469-724b56db0d3f",
   "metadata": {},
   "outputs": [
    {
     "data": {
      "text/plain": [
       "0.5"
      ]
     },
     "execution_count": 514,
     "metadata": {},
     "output_type": "execute_result"
    }
   ],
   "source": [
    "req.minimumTextHeight()"
   ]
  },
  {
   "cell_type": "code",
   "execution_count": 515,
   "id": "dc51ec5e-8bf2-45ec-8948-eadbf61763ea",
   "metadata": {},
   "outputs": [
    {
     "name": "stdout",
     "output_type": "stream",
     "text": [
      "Found: 11\n",
      "\n"
     ]
    },
    {
     "data": {
      "text/plain": [
       "[['VAN',\n",
       "  0.5,\n",
       "  <VNRecognizeTextRequest: 0x600002eedd80> VNRecognizeTextRequestRevision3 ROI=[0, 0, 1, 1]],\n",
       " ['OVERALL ROOF PLAN', 1.0, (0.815406982421875, 0.04575162760416662)],\n",
       " ['A100', 0.5, (0.9244185926649305, 0.037037027994791694)],\n",
       " ['OVERALL ROOF', 1.0, (0.9286655002170139, 0.1098664143880208)],\n",
       " ['EASTERN REGIONAL CRIME', 1.0, (0.9360465223524306, 0.2723311564127604)],\n",
       " ['LABORATORY REROOF', 0.5, (0.9491279025607638, 0.29411763509114586)],\n",
       " ['GEORGIA BUREAU OF INVESTIGATION',\n",
       "  1.0,\n",
       "  (0.9622093098958333, 0.2832244059244792)],\n",
       " ['1945 PHINIZY RD., AUGUSTA, GA 30906',\n",
       "  0.5,\n",
       "  (0.9723837348090277, 0.2962963053385417)],\n",
       " ['MERIK', 0.5, (0.9447674424913195, 0.6753812662760417)],\n",
       " ['3225 SHALLOWFORD ROAD', 0.5, (0.9418604871961805, 0.871459716796875)],\n",
       " ['BUILDING CONSTRUCTION CONSULTANTS',\n",
       "  0.5,\n",
       "  (0.9680232747395834, 0.67320263671875)]]"
      ]
     },
     "execution_count": 515,
     "metadata": {},
     "output_type": "execute_result"
    }
   ],
   "source": [
    "# Default Case: minimumTextHeight = 1/32\n",
    "print(f'Found: {len(results)} observations\\n')\n",
    "results"
   ]
  },
  {
   "cell_type": "code",
   "execution_count": 516,
   "id": "72a0ee69-cbbc-43de-a48e-66d9bd16e0c3",
   "metadata": {},
   "outputs": [
    {
     "data": {
      "text/plain": [
       "['OVERALL ROOF PLAN', 1.0, (0.815406982421875, 0.04575162760416662)]"
      ]
     },
     "execution_count": 516,
     "metadata": {},
     "output_type": "execute_result"
    }
   ],
   "source": [
    "results[1]"
   ]
  },
  {
   "cell_type": "code",
   "execution_count": null,
   "id": "defcd8cc-4ca7-48fb-922f-dc016a8f3efc",
   "metadata": {},
   "outputs": [],
   "source": []
  },
  {
   "cell_type": "code",
   "execution_count": null,
   "id": "0e95eb58-7607-418b-80c9-2c7083f6d2f1",
   "metadata": {},
   "outputs": [],
   "source": []
  },
  {
   "cell_type": "code",
   "execution_count": 517,
   "id": "b16c4077-ea4f-4c6e-ba07-407f13e022c4",
   "metadata": {},
   "outputs": [],
   "source": [
    "# I have to be missing something somewhere....."
   ]
  },
  {
   "cell_type": "code",
   "execution_count": null,
   "id": "68fdad34-f34f-429f-add1-c42ef947c9d4",
   "metadata": {},
   "outputs": [],
   "source": []
  }
 ],
 "metadata": {
  "kernelspec": {
   "display_name": "Python 3 (ipykernel)",
   "language": "python",
   "name": "python3"
  },
  "language_info": {
   "codemirror_mode": {
    "name": "ipython",
    "version": 3
   },
   "file_extension": ".py",
   "mimetype": "text/x-python",
   "name": "python",
   "nbconvert_exporter": "python",
   "pygments_lexer": "ipython3",
   "version": "3.9.12"
  }
 },
 "nbformat": 4,
 "nbformat_minor": 5
}
